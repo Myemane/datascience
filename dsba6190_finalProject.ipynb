{
  "nbformat": 4,
  "nbformat_minor": 0,
  "metadata": {
    "colab": {
      "name": "dsba6190-finalProject.ipynb",
      "provenance": [],
      "toc_visible": true,
      "authorship_tag": "ABX9TyOrnjDOQLNlHDgF71YGLrqf",
      "include_colab_link": true
    },
    "kernelspec": {
      "name": "python3",
      "display_name": "Python 3"
    },
    "language_info": {
      "name": "python"
    }
  },
  "cells": [
    {
      "cell_type": "markdown",
      "metadata": {
        "id": "view-in-github",
        "colab_type": "text"
      },
      "source": [
        "<a href=\"https://colab.research.google.com/github/Myemane/datascience/blob/master/dsba6190_finalProject.ipynb\" target=\"_parent\"><img src=\"https://colab.research.google.com/assets/colab-badge.svg\" alt=\"Open In Colab\"/></a>"
      ]
    },
    {
      "cell_type": "code",
      "metadata": {
        "id": "xPDhViUkN0GM"
      },
      "source": [
        "# import favorite packages\n",
        "import pandas as pd\n",
        "import numpy as np\n",
        "#visulaisation \n",
        "import seaborn as sns\n",
        "import matplotlib\n",
        "import matplotlib.pyplot as plt\n",
        "%matplotlib inline\n",
        "import re\n",
        "import scipy as sp\n",
        "import scipy.stats as stats\n",
        "import sklearn as sk"
      ],
      "execution_count": 1,
      "outputs": []
    },
    {
      "cell_type": "code",
      "metadata": {
        "id": "nt2qREWzOnVb"
      },
      "source": [
        "#reading the dataset \n",
        "df_listings = pd.read_excel(\"full_data_listings.xlsx\") "
      ],
      "execution_count": 2,
      "outputs": []
    },
    {
      "cell_type": "code",
      "metadata": {
        "colab": {
          "base_uri": "https://localhost:8080/",
          "height": 504
        },
        "id": "1zjRPF5aO2iY",
        "outputId": "52ef0af4-24f9-46a5-f3bf-4994067025d5"
      },
      "source": [
        "df_listings.head()"
      ],
      "execution_count": 68,
      "outputs": [
        {
          "output_type": "execute_result",
          "data": {
            "text/html": [
              "<div>\n",
              "<style scoped>\n",
              "    .dataframe tbody tr th:only-of-type {\n",
              "        vertical-align: middle;\n",
              "    }\n",
              "\n",
              "    .dataframe tbody tr th {\n",
              "        vertical-align: top;\n",
              "    }\n",
              "\n",
              "    .dataframe thead th {\n",
              "        text-align: right;\n",
              "    }\n",
              "</style>\n",
              "<table border=\"1\" class=\"dataframe\">\n",
              "  <thead>\n",
              "    <tr style=\"text-align: right;\">\n",
              "      <th></th>\n",
              "      <th>id</th>\n",
              "      <th>scrape_id</th>\n",
              "      <th>last_scraped</th>\n",
              "      <th>name</th>\n",
              "      <th>host_id</th>\n",
              "      <th>host_name</th>\n",
              "      <th>host_since</th>\n",
              "      <th>host_location</th>\n",
              "      <th>host_response_time</th>\n",
              "      <th>host_response_rate</th>\n",
              "      <th>host_acceptance_rate</th>\n",
              "      <th>host_is_superhost</th>\n",
              "      <th>host_neighbourhood</th>\n",
              "      <th>host_listings_count</th>\n",
              "      <th>host_total_listings_count</th>\n",
              "      <th>host_verifications</th>\n",
              "      <th>host_has_profile_pic</th>\n",
              "      <th>host_identity_verified</th>\n",
              "      <th>neighbourhood</th>\n",
              "      <th>neighbourhood_cleansed</th>\n",
              "      <th>latitude</th>\n",
              "      <th>longitude</th>\n",
              "      <th>property_type</th>\n",
              "      <th>room_type</th>\n",
              "      <th>accommodates</th>\n",
              "      <th>bathrooms_text</th>\n",
              "      <th>bedrooms</th>\n",
              "      <th>beds</th>\n",
              "      <th>price</th>\n",
              "      <th>minimum_nights</th>\n",
              "      <th>maximum_nights</th>\n",
              "      <th>minimum_minimum_nights</th>\n",
              "      <th>maximum_minimum_nights</th>\n",
              "      <th>minimum_maximum_nights</th>\n",
              "      <th>maximum_maximum_nights</th>\n",
              "      <th>minimum_nights_avg_ntm</th>\n",
              "      <th>maximum_nights_avg_ntm</th>\n",
              "      <th>has_availability</th>\n",
              "      <th>availability_30</th>\n",
              "      <th>availability_60</th>\n",
              "      <th>availability_90</th>\n",
              "      <th>availability_365</th>\n",
              "      <th>calendar_last_scraped</th>\n",
              "      <th>number_of_reviews</th>\n",
              "      <th>number_of_reviews_ltm</th>\n",
              "      <th>number_of_reviews_l30d</th>\n",
              "      <th>first_review</th>\n",
              "      <th>last_review</th>\n",
              "      <th>review_scores_rating</th>\n",
              "      <th>review_scores_accuracy</th>\n",
              "      <th>review_scores_cleanliness</th>\n",
              "      <th>review_scores_checkin</th>\n",
              "      <th>review_scores_communication</th>\n",
              "      <th>review_scores_location</th>\n",
              "      <th>review_scores_value</th>\n",
              "      <th>instant_bookable</th>\n",
              "      <th>calculated_host_listings_count</th>\n",
              "      <th>calculated_host_listings_count_entire_homes</th>\n",
              "      <th>calculated_host_listings_count_private_rooms</th>\n",
              "      <th>reviews_per_month</th>\n",
              "    </tr>\n",
              "  </thead>\n",
              "  <tbody>\n",
              "    <tr>\n",
              "      <th>60</th>\n",
              "      <td>1879067</td>\n",
              "      <td>20210710190015</td>\n",
              "      <td>2021-07-10</td>\n",
              "      <td>West Asheville - Canie Creek Getaway</td>\n",
              "      <td>313613</td>\n",
              "      <td>Alyson</td>\n",
              "      <td>2010-12-08</td>\n",
              "      <td>Asheville, North Carolina, United States</td>\n",
              "      <td>within an hour</td>\n",
              "      <td>1.0</td>\n",
              "      <td>1.00</td>\n",
              "      <td>f</td>\n",
              "      <td>Malvern Hills</td>\n",
              "      <td>0.0</td>\n",
              "      <td>0.0</td>\n",
              "      <td>['email', 'phone', 'facebook', 'reviews', 'kba...</td>\n",
              "      <td>t</td>\n",
              "      <td>t</td>\n",
              "      <td>Asheville, North Carolina, United States</td>\n",
              "      <td>28806</td>\n",
              "      <td>35.56677</td>\n",
              "      <td>-82.61641</td>\n",
              "      <td>Entire house</td>\n",
              "      <td>Entire home/apt</td>\n",
              "      <td>3</td>\n",
              "      <td>1 bath</td>\n",
              "      <td>1.0</td>\n",
              "      <td>2.0</td>\n",
              "      <td>90.0</td>\n",
              "      <td>3</td>\n",
              "      <td>31</td>\n",
              "      <td>2</td>\n",
              "      <td>3</td>\n",
              "      <td>31</td>\n",
              "      <td>31</td>\n",
              "      <td>2.6</td>\n",
              "      <td>31.0</td>\n",
              "      <td>t</td>\n",
              "      <td>5</td>\n",
              "      <td>18</td>\n",
              "      <td>39</td>\n",
              "      <td>112</td>\n",
              "      <td>2021-07-10</td>\n",
              "      <td>2</td>\n",
              "      <td>2</td>\n",
              "      <td>2</td>\n",
              "      <td>2021-06-14</td>\n",
              "      <td>2021-07-03</td>\n",
              "      <td>5.00</td>\n",
              "      <td>5.00</td>\n",
              "      <td>5.00</td>\n",
              "      <td>5.00</td>\n",
              "      <td>5.00</td>\n",
              "      <td>5.00</td>\n",
              "      <td>5.00</td>\n",
              "      <td>f</td>\n",
              "      <td>1</td>\n",
              "      <td>1</td>\n",
              "      <td>0</td>\n",
              "      <td>2.00</td>\n",
              "    </tr>\n",
              "    <tr>\n",
              "      <th>135</th>\n",
              "      <td>5213038</td>\n",
              "      <td>20210710190015</td>\n",
              "      <td>2021-07-10</td>\n",
              "      <td>Strawbridge House</td>\n",
              "      <td>16596642</td>\n",
              "      <td>Barry</td>\n",
              "      <td>2014-06-09</td>\n",
              "      <td>Asheville, North Carolina, United States</td>\n",
              "      <td>within a day</td>\n",
              "      <td>0.5</td>\n",
              "      <td>0.65</td>\n",
              "      <td>f</td>\n",
              "      <td>Montford Area Historic District</td>\n",
              "      <td>1.0</td>\n",
              "      <td>1.0</td>\n",
              "      <td>['email', 'phone', 'reviews']</td>\n",
              "      <td>t</td>\n",
              "      <td>f</td>\n",
              "      <td>Asheville, North Carolina, United States</td>\n",
              "      <td>28801</td>\n",
              "      <td>35.60065</td>\n",
              "      <td>-82.55765</td>\n",
              "      <td>Entire house</td>\n",
              "      <td>Entire home/apt</td>\n",
              "      <td>4</td>\n",
              "      <td>1.5 baths</td>\n",
              "      <td>2.0</td>\n",
              "      <td>4.0</td>\n",
              "      <td>180.0</td>\n",
              "      <td>60</td>\n",
              "      <td>1125</td>\n",
              "      <td>60</td>\n",
              "      <td>60</td>\n",
              "      <td>1125</td>\n",
              "      <td>1125</td>\n",
              "      <td>60.0</td>\n",
              "      <td>1125.0</td>\n",
              "      <td>t</td>\n",
              "      <td>0</td>\n",
              "      <td>4</td>\n",
              "      <td>4</td>\n",
              "      <td>164</td>\n",
              "      <td>2021-07-10</td>\n",
              "      <td>319</td>\n",
              "      <td>2</td>\n",
              "      <td>0</td>\n",
              "      <td>2016-09-15</td>\n",
              "      <td>2021-01-31</td>\n",
              "      <td>4.86</td>\n",
              "      <td>4.89</td>\n",
              "      <td>4.88</td>\n",
              "      <td>4.97</td>\n",
              "      <td>4.93</td>\n",
              "      <td>4.94</td>\n",
              "      <td>4.78</td>\n",
              "      <td>f</td>\n",
              "      <td>2</td>\n",
              "      <td>2</td>\n",
              "      <td>0</td>\n",
              "      <td>5.44</td>\n",
              "    </tr>\n",
              "    <tr>\n",
              "      <th>148</th>\n",
              "      <td>5917298</td>\n",
              "      <td>20210710190015</td>\n",
              "      <td>2021-07-10</td>\n",
              "      <td>The Tarot House</td>\n",
              "      <td>30728739</td>\n",
              "      <td>Betsy</td>\n",
              "      <td>2015-04-06</td>\n",
              "      <td>Asheville, North Carolina, United States</td>\n",
              "      <td>within a few hours</td>\n",
              "      <td>1.0</td>\n",
              "      <td>1.00</td>\n",
              "      <td>t</td>\n",
              "      <td>Henrietta- Spears Street</td>\n",
              "      <td>1.0</td>\n",
              "      <td>1.0</td>\n",
              "      <td>['email', 'phone', 'reviews', 'kba']</td>\n",
              "      <td>t</td>\n",
              "      <td>t</td>\n",
              "      <td>Asheville, North Carolina, United States</td>\n",
              "      <td>28801</td>\n",
              "      <td>35.60952</td>\n",
              "      <td>-82.55374</td>\n",
              "      <td>Private room in bungalow</td>\n",
              "      <td>Private room</td>\n",
              "      <td>4</td>\n",
              "      <td>1 shared bath</td>\n",
              "      <td>2.0</td>\n",
              "      <td>2.0</td>\n",
              "      <td>60.0</td>\n",
              "      <td>30</td>\n",
              "      <td>1125</td>\n",
              "      <td>30</td>\n",
              "      <td>30</td>\n",
              "      <td>1125</td>\n",
              "      <td>1125</td>\n",
              "      <td>30.0</td>\n",
              "      <td>1125.0</td>\n",
              "      <td>t</td>\n",
              "      <td>0</td>\n",
              "      <td>1</td>\n",
              "      <td>8</td>\n",
              "      <td>283</td>\n",
              "      <td>2021-07-10</td>\n",
              "      <td>195</td>\n",
              "      <td>0</td>\n",
              "      <td>0</td>\n",
              "      <td>2016-07-28</td>\n",
              "      <td>2020-02-16</td>\n",
              "      <td>4.71</td>\n",
              "      <td>4.75</td>\n",
              "      <td>4.64</td>\n",
              "      <td>4.94</td>\n",
              "      <td>4.92</td>\n",
              "      <td>4.84</td>\n",
              "      <td>4.71</td>\n",
              "      <td>f</td>\n",
              "      <td>2</td>\n",
              "      <td>0</td>\n",
              "      <td>2</td>\n",
              "      <td>3.23</td>\n",
              "    </tr>\n",
              "    <tr>\n",
              "      <th>186</th>\n",
              "      <td>7556089</td>\n",
              "      <td>20210710190015</td>\n",
              "      <td>2021-07-10</td>\n",
              "      <td>Private Suite in Contemporary West Asheville Home</td>\n",
              "      <td>37942362</td>\n",
              "      <td>Tom</td>\n",
              "      <td>2015-07-08</td>\n",
              "      <td>Asheville, North Carolina, United States</td>\n",
              "      <td>within an hour</td>\n",
              "      <td>1.0</td>\n",
              "      <td>0.92</td>\n",
              "      <td>t</td>\n",
              "      <td>West Asheville Estates</td>\n",
              "      <td>1.0</td>\n",
              "      <td>1.0</td>\n",
              "      <td>['email', 'phone', 'google', 'reviews', 'jumio...</td>\n",
              "      <td>t</td>\n",
              "      <td>t</td>\n",
              "      <td>Asheville, North Carolina, United States</td>\n",
              "      <td>28806</td>\n",
              "      <td>35.57223</td>\n",
              "      <td>-82.59993</td>\n",
              "      <td>Private room in house</td>\n",
              "      <td>Private room</td>\n",
              "      <td>3</td>\n",
              "      <td>1 private bath</td>\n",
              "      <td>1.0</td>\n",
              "      <td>1.0</td>\n",
              "      <td>83.0</td>\n",
              "      <td>2</td>\n",
              "      <td>3</td>\n",
              "      <td>2</td>\n",
              "      <td>2</td>\n",
              "      <td>3</td>\n",
              "      <td>3</td>\n",
              "      <td>2.0</td>\n",
              "      <td>3.0</td>\n",
              "      <td>t</td>\n",
              "      <td>0</td>\n",
              "      <td>0</td>\n",
              "      <td>0</td>\n",
              "      <td>0</td>\n",
              "      <td>2021-07-10</td>\n",
              "      <td>151</td>\n",
              "      <td>30</td>\n",
              "      <td>2</td>\n",
              "      <td>2017-07-09</td>\n",
              "      <td>2021-06-20</td>\n",
              "      <td>4.91</td>\n",
              "      <td>4.96</td>\n",
              "      <td>4.93</td>\n",
              "      <td>4.99</td>\n",
              "      <td>4.98</td>\n",
              "      <td>4.93</td>\n",
              "      <td>4.86</td>\n",
              "      <td>f</td>\n",
              "      <td>2</td>\n",
              "      <td>0</td>\n",
              "      <td>2</td>\n",
              "      <td>3.10</td>\n",
              "    </tr>\n",
              "    <tr>\n",
              "      <th>205</th>\n",
              "      <td>8173732</td>\n",
              "      <td>20210710190015</td>\n",
              "      <td>2021-07-10</td>\n",
              "      <td>DOWNTOWN Asheville Cute 2/1 Great Front Porch ...</td>\n",
              "      <td>32163305</td>\n",
              "      <td>Lisa</td>\n",
              "      <td>2015-04-28</td>\n",
              "      <td>Asheville, North Carolina, United States</td>\n",
              "      <td>within an hour</td>\n",
              "      <td>1.0</td>\n",
              "      <td>0.93</td>\n",
              "      <td>t</td>\n",
              "      <td>Edgehill</td>\n",
              "      <td>7.0</td>\n",
              "      <td>7.0</td>\n",
              "      <td>['email', 'phone', 'reviews', 'jumio', 'offlin...</td>\n",
              "      <td>t</td>\n",
              "      <td>f</td>\n",
              "      <td>Asheville, North Carolina, United States</td>\n",
              "      <td>28801</td>\n",
              "      <td>35.60637</td>\n",
              "      <td>-82.54732</td>\n",
              "      <td>Entire bungalow</td>\n",
              "      <td>Entire home/apt</td>\n",
              "      <td>6</td>\n",
              "      <td>1 bath</td>\n",
              "      <td>2.0</td>\n",
              "      <td>2.0</td>\n",
              "      <td>111.0</td>\n",
              "      <td>30</td>\n",
              "      <td>120</td>\n",
              "      <td>30</td>\n",
              "      <td>30</td>\n",
              "      <td>120</td>\n",
              "      <td>120</td>\n",
              "      <td>30.0</td>\n",
              "      <td>120.0</td>\n",
              "      <td>t</td>\n",
              "      <td>1</td>\n",
              "      <td>9</td>\n",
              "      <td>39</td>\n",
              "      <td>129</td>\n",
              "      <td>2021-07-10</td>\n",
              "      <td>31</td>\n",
              "      <td>3</td>\n",
              "      <td>0</td>\n",
              "      <td>2018-05-29</td>\n",
              "      <td>2021-02-16</td>\n",
              "      <td>4.71</td>\n",
              "      <td>4.77</td>\n",
              "      <td>4.58</td>\n",
              "      <td>4.97</td>\n",
              "      <td>5.00</td>\n",
              "      <td>4.86</td>\n",
              "      <td>4.45</td>\n",
              "      <td>t</td>\n",
              "      <td>3</td>\n",
              "      <td>3</td>\n",
              "      <td>0</td>\n",
              "      <td>0.82</td>\n",
              "    </tr>\n",
              "  </tbody>\n",
              "</table>\n",
              "</div>"
            ],
            "text/plain": [
              "          id  ...  reviews_per_month\n",
              "60   1879067  ...               2.00\n",
              "135  5213038  ...               5.44\n",
              "148  5917298  ...               3.23\n",
              "186  7556089  ...               3.10\n",
              "205  8173732  ...               0.82\n",
              "\n",
              "[5 rows x 60 columns]"
            ]
          },
          "metadata": {},
          "execution_count": 68
        }
      ]
    },
    {
      "cell_type": "code",
      "metadata": {
        "id": "6oB8ob8VXI2n"
      },
      "source": [
        "final_listing = df_listings[['accommodates', 'bedrooms', 'beds', 'minimum_nights','maximum_nights', 'review_scores_rating','availability_30','review_scores_cleanliness', \n",
        "       'availability_60', 'availability_90', 'availability_365','price']]"
      ],
      "execution_count": 88,
      "outputs": []
    },
    {
      "cell_type": "code",
      "metadata": {
        "colab": {
          "base_uri": "https://localhost:8080/",
          "height": 206
        },
        "id": "tLTSumfIPZLr",
        "outputId": "b0be437b-844d-4f36-eb3e-29b1b94cfa59"
      },
      "source": [
        "final_listing.head()"
      ],
      "execution_count": 89,
      "outputs": [
        {
          "output_type": "execute_result",
          "data": {
            "text/html": [
              "<div>\n",
              "<style scoped>\n",
              "    .dataframe tbody tr th:only-of-type {\n",
              "        vertical-align: middle;\n",
              "    }\n",
              "\n",
              "    .dataframe tbody tr th {\n",
              "        vertical-align: top;\n",
              "    }\n",
              "\n",
              "    .dataframe thead th {\n",
              "        text-align: right;\n",
              "    }\n",
              "</style>\n",
              "<table border=\"1\" class=\"dataframe\">\n",
              "  <thead>\n",
              "    <tr style=\"text-align: right;\">\n",
              "      <th></th>\n",
              "      <th>accommodates</th>\n",
              "      <th>bedrooms</th>\n",
              "      <th>beds</th>\n",
              "      <th>minimum_nights</th>\n",
              "      <th>maximum_nights</th>\n",
              "      <th>review_scores_rating</th>\n",
              "      <th>availability_30</th>\n",
              "      <th>review_scores_cleanliness</th>\n",
              "      <th>availability_60</th>\n",
              "      <th>availability_90</th>\n",
              "      <th>availability_365</th>\n",
              "      <th>price</th>\n",
              "    </tr>\n",
              "  </thead>\n",
              "  <tbody>\n",
              "    <tr>\n",
              "      <th>60</th>\n",
              "      <td>3</td>\n",
              "      <td>1.0</td>\n",
              "      <td>2.0</td>\n",
              "      <td>3</td>\n",
              "      <td>31</td>\n",
              "      <td>5.00</td>\n",
              "      <td>5</td>\n",
              "      <td>5.00</td>\n",
              "      <td>18</td>\n",
              "      <td>39</td>\n",
              "      <td>112</td>\n",
              "      <td>90.0</td>\n",
              "    </tr>\n",
              "    <tr>\n",
              "      <th>135</th>\n",
              "      <td>4</td>\n",
              "      <td>2.0</td>\n",
              "      <td>4.0</td>\n",
              "      <td>60</td>\n",
              "      <td>1125</td>\n",
              "      <td>4.86</td>\n",
              "      <td>0</td>\n",
              "      <td>4.88</td>\n",
              "      <td>4</td>\n",
              "      <td>4</td>\n",
              "      <td>164</td>\n",
              "      <td>180.0</td>\n",
              "    </tr>\n",
              "    <tr>\n",
              "      <th>148</th>\n",
              "      <td>4</td>\n",
              "      <td>2.0</td>\n",
              "      <td>2.0</td>\n",
              "      <td>30</td>\n",
              "      <td>1125</td>\n",
              "      <td>4.71</td>\n",
              "      <td>0</td>\n",
              "      <td>4.64</td>\n",
              "      <td>1</td>\n",
              "      <td>8</td>\n",
              "      <td>283</td>\n",
              "      <td>60.0</td>\n",
              "    </tr>\n",
              "    <tr>\n",
              "      <th>186</th>\n",
              "      <td>3</td>\n",
              "      <td>1.0</td>\n",
              "      <td>1.0</td>\n",
              "      <td>2</td>\n",
              "      <td>3</td>\n",
              "      <td>4.91</td>\n",
              "      <td>0</td>\n",
              "      <td>4.93</td>\n",
              "      <td>0</td>\n",
              "      <td>0</td>\n",
              "      <td>0</td>\n",
              "      <td>83.0</td>\n",
              "    </tr>\n",
              "    <tr>\n",
              "      <th>205</th>\n",
              "      <td>6</td>\n",
              "      <td>2.0</td>\n",
              "      <td>2.0</td>\n",
              "      <td>30</td>\n",
              "      <td>120</td>\n",
              "      <td>4.71</td>\n",
              "      <td>1</td>\n",
              "      <td>4.58</td>\n",
              "      <td>9</td>\n",
              "      <td>39</td>\n",
              "      <td>129</td>\n",
              "      <td>111.0</td>\n",
              "    </tr>\n",
              "  </tbody>\n",
              "</table>\n",
              "</div>"
            ],
            "text/plain": [
              "     accommodates  bedrooms  beds  ...  availability_90  availability_365  price\n",
              "60              3       1.0   2.0  ...               39               112   90.0\n",
              "135             4       2.0   4.0  ...                4               164  180.0\n",
              "148             4       2.0   2.0  ...                8               283   60.0\n",
              "186             3       1.0   1.0  ...                0                 0   83.0\n",
              "205             6       2.0   2.0  ...               39               129  111.0\n",
              "\n",
              "[5 rows x 12 columns]"
            ]
          },
          "metadata": {},
          "execution_count": 89
        }
      ]
    },
    {
      "cell_type": "code",
      "metadata": {
        "colab": {
          "base_uri": "https://localhost:8080/"
        },
        "id": "0O4S72e6PZPK",
        "outputId": "f64208d2-8074-4a81-810c-8f1fa91bd9ea"
      },
      "source": [
        "final_listing.dropna(inplace=True)\n",
        "final_listing.isna().sum()"
      ],
      "execution_count": 90,
      "outputs": [
        {
          "output_type": "stream",
          "name": "stderr",
          "text": [
            "/usr/local/lib/python3.7/dist-packages/ipykernel_launcher.py:1: SettingWithCopyWarning: \n",
            "A value is trying to be set on a copy of a slice from a DataFrame\n",
            "\n",
            "See the caveats in the documentation: https://pandas.pydata.org/pandas-docs/stable/user_guide/indexing.html#returning-a-view-versus-a-copy\n",
            "  \"\"\"Entry point for launching an IPython kernel.\n"
          ]
        },
        {
          "output_type": "execute_result",
          "data": {
            "text/plain": [
              "accommodates                 0\n",
              "bedrooms                     0\n",
              "beds                         0\n",
              "minimum_nights               0\n",
              "maximum_nights               0\n",
              "review_scores_rating         0\n",
              "availability_30              0\n",
              "review_scores_cleanliness    0\n",
              "availability_60              0\n",
              "availability_90              0\n",
              "availability_365             0\n",
              "price                        0\n",
              "dtype: int64"
            ]
          },
          "metadata": {},
          "execution_count": 90
        }
      ]
    },
    {
      "cell_type": "code",
      "metadata": {
        "colab": {
          "base_uri": "https://localhost:8080/"
        },
        "id": "rpInZzihPZTM",
        "outputId": "18b990d8-320e-4592-ea48-ab8489f2ab07"
      },
      "source": [
        "#checking for correlation with the target varible \n",
        "final_listing.corr()['price']"
      ],
      "execution_count": 91,
      "outputs": [
        {
          "output_type": "execute_result",
          "data": {
            "text/plain": [
              "accommodates                 0.658867\n",
              "bedrooms                     0.674066\n",
              "beds                         0.636274\n",
              "minimum_nights              -0.100216\n",
              "maximum_nights              -0.020304\n",
              "review_scores_rating        -0.205086\n",
              "availability_30              0.016036\n",
              "review_scores_cleanliness   -0.200162\n",
              "availability_60              0.030154\n",
              "availability_90              0.029301\n",
              "availability_365             0.243853\n",
              "price                        1.000000\n",
              "Name: price, dtype: float64"
            ]
          },
          "metadata": {},
          "execution_count": 91
        }
      ]
    },
    {
      "cell_type": "code",
      "metadata": {
        "colab": {
          "base_uri": "https://localhost:8080/",
          "height": 516
        },
        "id": "rtPlOL1sUEmV",
        "outputId": "562abc0b-c857-450e-9cdc-7a49169a5eb9"
      },
      "source": [
        "#checking Correlation visually with Seaborn heatmap \n",
        "plt.figure(figsize=(16, 6))\n",
        "sns.heatmap(final_listing.corr(),cmap=\"seismic\", annot=True, vmin=-1,vmax=1)"
      ],
      "execution_count": 92,
      "outputs": [
        {
          "output_type": "execute_result",
          "data": {
            "text/plain": [
              "<matplotlib.axes._subplots.AxesSubplot at 0x7f6cd082b190>"
            ]
          },
          "metadata": {},
          "execution_count": 92
        },
        {
          "output_type": "display_data",
          "data": {
            "image/png": "[encoded data removed]",
            "text/plain": [
              "<Figure size 1152x432 with 2 Axes>"
            ]
          },
          "metadata": {
            "needs_background": "light"
          }
        }
      ]
    },
    {
      "cell_type": "code",
      "metadata": {
        "colab": {
          "base_uri": "https://localhost:8080/",
          "height": 282
        },
        "id": "bWIiOqn2UErp",
        "outputId": "abce2d87-5525-431c-e785-facf3c902e93"
      },
      "source": [
        "#cheking the distribution of the target variable (NB:- price column is not normally distribute and we will need to log transform it )\n",
        "final_listing['price'].hist() "
      ],
      "execution_count": 93,
      "outputs": [
        {
          "output_type": "execute_result",
          "data": {
            "text/plain": [
              "<matplotlib.axes._subplots.AxesSubplot at 0x7f6cd0562c50>"
            ]
          },
          "metadata": {},
          "execution_count": 93
        },
        {
          "output_type": "display_data",
          "data": {
            "image/png": "[encoded data removed]",
            "text/plain": [
              "<Figure size 432x288 with 1 Axes>"
            ]
          },
          "metadata": {
            "needs_background": "light"
          }
        }
      ]
    },
    {
      "cell_type": "code",
      "metadata": {
        "colab": {
          "base_uri": "https://localhost:8080/",
          "height": 679
        },
        "id": "xaaTdq4hUEwc",
        "outputId": "7e3c5120-04f1-4f05-8e38-2c217e30fe7a"
      },
      "source": [
        "#Log Transformation of Price column and plot it with seaborn \n",
        "final_listing['price'] = np.log(final_listing['price'].values)\n",
        "sns.distplot(final_listing['price'],kde=True,)\n",
        "fig= plt.figure()\n",
        "res = stats.probplot(final_listing['price'],plot=plt)\n",
        "print('Skewness: %f' % final_listing['price'].skew())"
      ],
      "execution_count": 94,
      "outputs": [
        {
          "output_type": "stream",
          "name": "stderr",
          "text": [
            "/usr/local/lib/python3.7/dist-packages/ipykernel_launcher.py:2: SettingWithCopyWarning: \n",
            "A value is trying to be set on a copy of a slice from a DataFrame.\n",
            "Try using .loc[row_indexer,col_indexer] = value instead\n",
            "\n",
            "See the caveats in the documentation: https://pandas.pydata.org/pandas-docs/stable/user_guide/indexing.html#returning-a-view-versus-a-copy\n",
            "  \n"
          ]
        },
        {
          "output_type": "stream",
          "name": "stdout",
          "text": [
            "Skewness: 0.137534\n"
          ]
        },
        {
          "output_type": "display_data",
          "data": {
            "image/png": "[encoded data removed]",
            "text/plain": [
              "<Figure size 432x288 with 1 Axes>"
            ]
          },
          "metadata": {
            "needs_background": "light"
          }
        },
        {
          "output_type": "display_data",
          "data": {
            "image/png": "[encoded data removed]",
            "text/plain": [
              "<Figure size 432x288 with 1 Axes>"
            ]
          },
          "metadata": {
            "needs_background": "light"
          }
        }
      ]
    },
    {
      "cell_type": "code",
      "metadata": {
        "colab": {
          "base_uri": "https://localhost:8080/",
          "height": 517
        },
        "id": "qWxYsBibUwf6",
        "outputId": "2e93e927-2cb8-48c4-90f4-6ed9ded87e9f"
      },
      "source": [
        "#number of booking per booking  \n",
        "feq = final_listing['accommodates'].value_counts().sort_index()\n",
        "feq.plot.bar(figsize=(10,8), width=0.5, rot=0)\n",
        "plt.title('Number of people per booking in Asheville', fontsize=14)\n",
        "plt.ylabel('Number of listings', fontsize=12)\n",
        "plt.xlabel('Accommodates', fontsize=12)\n",
        "plt.show()"
      ],
      "execution_count": 95,
      "outputs": [
        {
          "output_type": "display_data",
          "data": {
            "image/png": "[encoded data removed]",
            "text/plain": [
              "<Figure size 720x576 with 1 Axes>"
            ]
          },
          "metadata": {
            "needs_background": "light"
          }
        }
      ]
    },
    {
      "cell_type": "markdown",
      "metadata": {
        "id": "T2g6dt2AZpGm"
      },
      "source": [
        "# **Dichotomising the target variable and running classification analysis** "
      ]
    },
    {
      "cell_type": "code",
      "metadata": {
        "id": "lExe9UTrZubi"
      },
      "source": [
        "model = final_listing"
      ],
      "execution_count": 96,
      "outputs": []
    },
    {
      "cell_type": "code",
      "metadata": {
        "colab": {
          "base_uri": "https://localhost:8080/"
        },
        "id": "wZ1TGCDpU_7M",
        "outputId": "2d07e391-8372-4a8f-90f0-87037f43d2e2"
      },
      "source": [
        "#find minimum, maximum and average price for listing\n",
        "min_price = model['price'].min()\n",
        "max_price = model['price'].max()\n",
        "mean_price = model['price'].mean()\n",
        "\n",
        "print(f'Minimum price per listing is ${min_price}')\n",
        "print(f'Maximum price per listing is ${max_price}')\n",
        "print(f'Average price per listing is ${mean_price}')"
      ],
      "execution_count": 97,
      "outputs": [
        {
          "output_type": "stream",
          "name": "stdout",
          "text": [
            "Minimum price per listing is $3.367295829986474\n",
            "Maximum price per listing is $7.151485463904735\n",
            "Average price per listing is $5.0722244382365425\n"
          ]
        }
      ]
    },
    {
      "cell_type": "code",
      "metadata": {
        "colab": {
          "base_uri": "https://localhost:8080/"
        },
        "id": "SMvh0a0aVAAs",
        "outputId": "36283c3e-8ed4-4ace-9a46-6875f3b46bc1"
      },
      "source": [
        "# import warnings filter\n",
        "from warnings import simplefilter\n",
        "# ignore all future warnings\n",
        "simplefilter(action='ignore', category=FutureWarning)\n",
        "#creating classes on price for classification analysis \n",
        "model.loc[model['price'] <= 5, 'priceClass'] = 0 # LOW \n",
        "model.loc[model['price'] > 5, 'priceClass'] = 1  # HIGH\n",
        "\n",
        "#model.loc[model.price <= 5, 'priceClass'] = 0\n",
        "#model.loc[model.price > 5, 'priceClass'] = 1\n",
        " "
      ],
      "execution_count": 99,
      "outputs": [
        {
          "output_type": "stream",
          "name": "stderr",
          "text": [
            "/usr/local/lib/python3.7/dist-packages/pandas/core/indexing.py:1763: SettingWithCopyWarning: \n",
            "A value is trying to be set on a copy of a slice from a DataFrame.\n",
            "Try using .loc[row_indexer,col_indexer] = value instead\n",
            "\n",
            "See the caveats in the documentation: https://pandas.pydata.org/pandas-docs/stable/user_guide/indexing.html#returning-a-view-versus-a-copy\n",
            "  isetter(loc, value)\n",
            "/usr/local/lib/python3.7/dist-packages/pandas/core/indexing.py:1763: SettingWithCopyWarning: \n",
            "A value is trying to be set on a copy of a slice from a DataFrame.\n",
            "Try using .loc[row_indexer,col_indexer] = value instead\n",
            "\n",
            "See the caveats in the documentation: https://pandas.pydata.org/pandas-docs/stable/user_guide/indexing.html#returning-a-view-versus-a-copy\n",
            "  isetter(loc, value)\n"
          ]
        }
      ]
    },
    {
      "cell_type": "code",
      "metadata": {
        "colab": {
          "base_uri": "https://localhost:8080/",
          "height": 226
        },
        "id": "nlPWjpZxVAFA",
        "outputId": "5fd23b85-9ded-436a-b8af-8e0854c9fa24"
      },
      "source": [
        "model.head()"
      ],
      "execution_count": 100,
      "outputs": [
        {
          "output_type": "execute_result",
          "data": {
            "text/html": [
              "<div>\n",
              "<style scoped>\n",
              "    .dataframe tbody tr th:only-of-type {\n",
              "        vertical-align: middle;\n",
              "    }\n",
              "\n",
              "    .dataframe tbody tr th {\n",
              "        vertical-align: top;\n",
              "    }\n",
              "\n",
              "    .dataframe thead th {\n",
              "        text-align: right;\n",
              "    }\n",
              "</style>\n",
              "<table border=\"1\" class=\"dataframe\">\n",
              "  <thead>\n",
              "    <tr style=\"text-align: right;\">\n",
              "      <th></th>\n",
              "      <th>accommodates</th>\n",
              "      <th>bedrooms</th>\n",
              "      <th>beds</th>\n",
              "      <th>minimum_nights</th>\n",
              "      <th>maximum_nights</th>\n",
              "      <th>review_scores_rating</th>\n",
              "      <th>availability_30</th>\n",
              "      <th>review_scores_cleanliness</th>\n",
              "      <th>availability_60</th>\n",
              "      <th>availability_90</th>\n",
              "      <th>availability_365</th>\n",
              "      <th>price</th>\n",
              "      <th>priceClass</th>\n",
              "    </tr>\n",
              "  </thead>\n",
              "  <tbody>\n",
              "    <tr>\n",
              "      <th>60</th>\n",
              "      <td>3</td>\n",
              "      <td>1.0</td>\n",
              "      <td>2.0</td>\n",
              "      <td>3</td>\n",
              "      <td>31</td>\n",
              "      <td>5.00</td>\n",
              "      <td>5</td>\n",
              "      <td>5.00</td>\n",
              "      <td>18</td>\n",
              "      <td>39</td>\n",
              "      <td>112</td>\n",
              "      <td>4.499810</td>\n",
              "      <td>0.0</td>\n",
              "    </tr>\n",
              "    <tr>\n",
              "      <th>135</th>\n",
              "      <td>4</td>\n",
              "      <td>2.0</td>\n",
              "      <td>4.0</td>\n",
              "      <td>60</td>\n",
              "      <td>1125</td>\n",
              "      <td>4.86</td>\n",
              "      <td>0</td>\n",
              "      <td>4.88</td>\n",
              "      <td>4</td>\n",
              "      <td>4</td>\n",
              "      <td>164</td>\n",
              "      <td>5.192957</td>\n",
              "      <td>1.0</td>\n",
              "    </tr>\n",
              "    <tr>\n",
              "      <th>148</th>\n",
              "      <td>4</td>\n",
              "      <td>2.0</td>\n",
              "      <td>2.0</td>\n",
              "      <td>30</td>\n",
              "      <td>1125</td>\n",
              "      <td>4.71</td>\n",
              "      <td>0</td>\n",
              "      <td>4.64</td>\n",
              "      <td>1</td>\n",
              "      <td>8</td>\n",
              "      <td>283</td>\n",
              "      <td>4.094345</td>\n",
              "      <td>0.0</td>\n",
              "    </tr>\n",
              "    <tr>\n",
              "      <th>186</th>\n",
              "      <td>3</td>\n",
              "      <td>1.0</td>\n",
              "      <td>1.0</td>\n",
              "      <td>2</td>\n",
              "      <td>3</td>\n",
              "      <td>4.91</td>\n",
              "      <td>0</td>\n",
              "      <td>4.93</td>\n",
              "      <td>0</td>\n",
              "      <td>0</td>\n",
              "      <td>0</td>\n",
              "      <td>4.418841</td>\n",
              "      <td>0.0</td>\n",
              "    </tr>\n",
              "    <tr>\n",
              "      <th>205</th>\n",
              "      <td>6</td>\n",
              "      <td>2.0</td>\n",
              "      <td>2.0</td>\n",
              "      <td>30</td>\n",
              "      <td>120</td>\n",
              "      <td>4.71</td>\n",
              "      <td>1</td>\n",
              "      <td>4.58</td>\n",
              "      <td>9</td>\n",
              "      <td>39</td>\n",
              "      <td>129</td>\n",
              "      <td>4.709530</td>\n",
              "      <td>0.0</td>\n",
              "    </tr>\n",
              "  </tbody>\n",
              "</table>\n",
              "</div>"
            ],
            "text/plain": [
              "     accommodates  bedrooms  beds  ...  availability_365     price  priceClass\n",
              "60              3       1.0   2.0  ...               112  4.499810         0.0\n",
              "135             4       2.0   4.0  ...               164  5.192957         1.0\n",
              "148             4       2.0   2.0  ...               283  4.094345         0.0\n",
              "186             3       1.0   1.0  ...                 0  4.418841         0.0\n",
              "205             6       2.0   2.0  ...               129  4.709530         0.0\n",
              "\n",
              "[5 rows x 13 columns]"
            ]
          },
          "metadata": {},
          "execution_count": 100
        }
      ]
    },
    {
      "cell_type": "code",
      "metadata": {
        "colab": {
          "base_uri": "https://localhost:8080/"
        },
        "id": "QZDuTfyOVAJB",
        "outputId": "6620b3d2-72d3-40e9-be57-a6a40d477e9c"
      },
      "source": [
        " model.drop('price', axis=1, inplace=True)"
      ],
      "execution_count": 101,
      "outputs": [
        {
          "output_type": "stream",
          "name": "stderr",
          "text": [
            "/usr/local/lib/python3.7/dist-packages/pandas/core/frame.py:4174: SettingWithCopyWarning: \n",
            "A value is trying to be set on a copy of a slice from a DataFrame\n",
            "\n",
            "See the caveats in the documentation: https://pandas.pydata.org/pandas-docs/stable/user_guide/indexing.html#returning-a-view-versus-a-copy\n",
            "  errors=errors,\n"
          ]
        }
      ]
    },
    {
      "cell_type": "code",
      "metadata": {
        "colab": {
          "base_uri": "https://localhost:8080/",
          "height": 295
        },
        "id": "RR9fCQPChcnG",
        "outputId": "d2cc61eb-ec7b-4348-b03a-7b3752bf75ff"
      },
      "source": [
        "#checking the target catagories distribution \n",
        "import seaborn as sns\n",
        "\n",
        "import matplotlib.pyplot as plt\n",
        "%matplotlib inline\n",
        "\n",
        "sns.countplot(model['priceClass'])\n",
        "plt.xlabel('grouped price', color = 'red')\n",
        "plt.ylabel('count', color= 'red')\n",
        "plt.xticks([0.0,1.0], ['low','high'])\n",
        "plt.title('Counitng the grouped price', COLOR = 'r')\n",
        "plt.show()"
      ],
      "execution_count": 103,
      "outputs": [
        {
          "output_type": "display_data",
          "data": {
            "image/png": "[encoded data removed]",
            "text/plain": [
              "<Figure size 432x288 with 1 Axes>"
            ]
          },
          "metadata": {
            "needs_background": "light"
          }
        }
      ]
    },
    {
      "cell_type": "code",
      "metadata": {
        "colab": {
          "base_uri": "https://localhost:8080/",
          "height": 226
        },
        "id": "a67Pl5O3hcq6",
        "outputId": "475e63c8-5b78-4ae5-c853-b74c3d62a63c"
      },
      "source": [
        "model.head()"
      ],
      "execution_count": 104,
      "outputs": [
        {
          "output_type": "execute_result",
          "data": {
            "text/html": [
              "<div>\n",
              "<style scoped>\n",
              "    .dataframe tbody tr th:only-of-type {\n",
              "        vertical-align: middle;\n",
              "    }\n",
              "\n",
              "    .dataframe tbody tr th {\n",
              "        vertical-align: top;\n",
              "    }\n",
              "\n",
              "    .dataframe thead th {\n",
              "        text-align: right;\n",
              "    }\n",
              "</style>\n",
              "<table border=\"1\" class=\"dataframe\">\n",
              "  <thead>\n",
              "    <tr style=\"text-align: right;\">\n",
              "      <th></th>\n",
              "      <th>accommodates</th>\n",
              "      <th>bedrooms</th>\n",
              "      <th>beds</th>\n",
              "      <th>minimum_nights</th>\n",
              "      <th>maximum_nights</th>\n",
              "      <th>review_scores_rating</th>\n",
              "      <th>availability_30</th>\n",
              "      <th>review_scores_cleanliness</th>\n",
              "      <th>availability_60</th>\n",
              "      <th>availability_90</th>\n",
              "      <th>availability_365</th>\n",
              "      <th>priceClass</th>\n",
              "    </tr>\n",
              "  </thead>\n",
              "  <tbody>\n",
              "    <tr>\n",
              "      <th>60</th>\n",
              "      <td>3</td>\n",
              "      <td>1.0</td>\n",
              "      <td>2.0</td>\n",
              "      <td>3</td>\n",
              "      <td>31</td>\n",
              "      <td>5.00</td>\n",
              "      <td>5</td>\n",
              "      <td>5.00</td>\n",
              "      <td>18</td>\n",
              "      <td>39</td>\n",
              "      <td>112</td>\n",
              "      <td>0.0</td>\n",
              "    </tr>\n",
              "    <tr>\n",
              "      <th>135</th>\n",
              "      <td>4</td>\n",
              "      <td>2.0</td>\n",
              "      <td>4.0</td>\n",
              "      <td>60</td>\n",
              "      <td>1125</td>\n",
              "      <td>4.86</td>\n",
              "      <td>0</td>\n",
              "      <td>4.88</td>\n",
              "      <td>4</td>\n",
              "      <td>4</td>\n",
              "      <td>164</td>\n",
              "      <td>1.0</td>\n",
              "    </tr>\n",
              "    <tr>\n",
              "      <th>148</th>\n",
              "      <td>4</td>\n",
              "      <td>2.0</td>\n",
              "      <td>2.0</td>\n",
              "      <td>30</td>\n",
              "      <td>1125</td>\n",
              "      <td>4.71</td>\n",
              "      <td>0</td>\n",
              "      <td>4.64</td>\n",
              "      <td>1</td>\n",
              "      <td>8</td>\n",
              "      <td>283</td>\n",
              "      <td>0.0</td>\n",
              "    </tr>\n",
              "    <tr>\n",
              "      <th>186</th>\n",
              "      <td>3</td>\n",
              "      <td>1.0</td>\n",
              "      <td>1.0</td>\n",
              "      <td>2</td>\n",
              "      <td>3</td>\n",
              "      <td>4.91</td>\n",
              "      <td>0</td>\n",
              "      <td>4.93</td>\n",
              "      <td>0</td>\n",
              "      <td>0</td>\n",
              "      <td>0</td>\n",
              "      <td>0.0</td>\n",
              "    </tr>\n",
              "    <tr>\n",
              "      <th>205</th>\n",
              "      <td>6</td>\n",
              "      <td>2.0</td>\n",
              "      <td>2.0</td>\n",
              "      <td>30</td>\n",
              "      <td>120</td>\n",
              "      <td>4.71</td>\n",
              "      <td>1</td>\n",
              "      <td>4.58</td>\n",
              "      <td>9</td>\n",
              "      <td>39</td>\n",
              "      <td>129</td>\n",
              "      <td>0.0</td>\n",
              "    </tr>\n",
              "  </tbody>\n",
              "</table>\n",
              "</div>"
            ],
            "text/plain": [
              "     accommodates  bedrooms  ...  availability_365  priceClass\n",
              "60              3       1.0  ...               112         0.0\n",
              "135             4       2.0  ...               164         1.0\n",
              "148             4       2.0  ...               283         0.0\n",
              "186             3       1.0  ...                 0         0.0\n",
              "205             6       2.0  ...               129         0.0\n",
              "\n",
              "[5 rows x 12 columns]"
            ]
          },
          "metadata": {},
          "execution_count": 104
        }
      ]
    },
    {
      "cell_type": "code",
      "metadata": {
        "id": "_SdsxjgWhcuC"
      },
      "source": [
        "#saving into csv file \n",
        "#model.to_csv (r'airbnbPrice.csv', header=True, sep=',', index = False) "
      ],
      "execution_count": 105,
      "outputs": []
    },
    {
      "cell_type": "markdown",
      "metadata": {
        "id": "AdcT7xm9isIa"
      },
      "source": [
        "## **CLASSIFICATION Analysis after dichotomised the price column** "
      ]
    },
    {
      "cell_type": "code",
      "metadata": {
        "id": "ZKJthIlihcxe"
      },
      "source": [
        "# split in to train and test \n",
        "target = model[['priceClass']]\n",
        "predictor =  model.drop(['priceClass'], axis=1)"
      ],
      "execution_count": 106,
      "outputs": []
    },
    {
      "cell_type": "code",
      "metadata": {
        "id": "rZaJisfei6fG"
      },
      "source": [
        "# IMPORT MODELS AND UTILITY FUCNTIONS\n",
        "from sklearn.model_selection import train_test_split\n",
        "from sklearn.tree import DecisionTreeClassifier\n",
        "from sklearn.neighbors import KNeighborsClassifier\n",
        "from sklearn.ensemble import AdaBoostClassifier, BaggingClassifier, GradientBoostingClassifier, RandomForestClassifier\n",
        "from sklearn.metrics import roc_curve, roc_auc_score, classification_report, confusion_matrix\n",
        "from sklearn.model_selection import GridSearchCV\n",
        "from matplotlib import pyplot"
      ],
      "execution_count": 107,
      "outputs": []
    },
    {
      "cell_type": "markdown",
      "metadata": {
        "id": "z-dM7kyli_s5"
      },
      "source": [
        "## **Random Forest Classifier model**"
      ]
    },
    {
      "cell_type": "code",
      "metadata": {
        "id": "REe91QLki6pA"
      },
      "source": [
        "# split data into training and test set ( 80 %  train and 20% test) \n",
        "X_train, X_test, Y_train, Y_test = train_test_split(predictor, target, test_size = 0.2, stratify = target, random_state = 1)"
      ],
      "execution_count": 109,
      "outputs": []
    },
    {
      "cell_type": "code",
      "metadata": {
        "colab": {
          "base_uri": "https://localhost:8080/"
        },
        "id": "kO4-Tjz7i6wM",
        "outputId": "b49778e7-fc5d-4e07-e936-91cfb5d520fe"
      },
      "source": [
        "SEED = 1\n",
        "\n",
        "rf_model = RandomForestClassifier(max_depth = 25, max_features = 'log2', min_samples_leaf = 1, n_estimators=300, oob_score=True, random_state=SEED)\n",
        "\n",
        "rf_model.fit(X_train, Y_train)\n",
        "\n",
        "#predict using best rf model\n",
        "rf_preds = rf_model.predict(X_test)\n",
        "print(\"Accuracy score on Test set: {0:.3f}\".format(rf_model.score(X_test, Y_test)))\n",
        "\n",
        "print(\"Classification Report Random Forest\")\n",
        "print(classification_report(Y_test, rf_preds))"
      ],
      "execution_count": 111,
      "outputs": [
        {
          "output_type": "stream",
          "name": "stderr",
          "text": [
            "/usr/local/lib/python3.7/dist-packages/ipykernel_launcher.py:5: DataConversionWarning: A column-vector y was passed when a 1d array was expected. Please change the shape of y to (n_samples,), for example using ravel().\n",
            "  \"\"\"\n",
            "/usr/local/lib/python3.7/dist-packages/sklearn/base.py:446: UserWarning: X does not have valid feature names, but RandomForestClassifier was fitted with feature names\n",
            "  \"X does not have valid feature names, but\"\n"
          ]
        },
        {
          "output_type": "stream",
          "name": "stdout",
          "text": [
            "Accuracy score on Test set: 0.875\n",
            "Classification Report Random Forest\n",
            "              precision    recall  f1-score   support\n",
            "\n",
            "         0.0       0.83      0.92      0.87       182\n",
            "         1.0       0.92      0.83      0.88       203\n",
            "\n",
            "    accuracy                           0.88       385\n",
            "   macro avg       0.88      0.88      0.88       385\n",
            "weighted avg       0.88      0.88      0.88       385\n",
            "\n"
          ]
        }
      ]
    },
    {
      "cell_type": "code",
      "metadata": {
        "colab": {
          "base_uri": "https://localhost:8080/",
          "height": 282
        },
        "id": "gp4wGj4gi63N",
        "outputId": "2a9b2004-eec2-4d5a-819f-85c907235fd5"
      },
      "source": [
        "feature_importances_rf = pd.Series(rf_model.feature_importances_, index=predictor.columns)\n",
        "feature_importances_rf.nlargest(20).plot(kind='barh',)"
      ],
      "execution_count": 113,
      "outputs": [
        {
          "output_type": "execute_result",
          "data": {
            "text/plain": [
              "<matplotlib.axes._subplots.AxesSubplot at 0x7f6cd24e2fd0>"
            ]
          },
          "metadata": {},
          "execution_count": 113
        },
        {
          "output_type": "display_data",
          "data": {
            "image/png": "[encoded data removed]",
            "text/plain": [
              "<Figure size 432x288 with 1 Axes>"
            ]
          },
          "metadata": {
            "needs_background": "light"
          }
        }
      ]
    },
    {
      "cell_type": "markdown",
      "metadata": {
        "id": "6HE5gy3Rj6-L"
      },
      "source": [
        "##**Gradient Boost Classifier model**"
      ]
    },
    {
      "cell_type": "code",
      "metadata": {
        "id": "KCAG8EZ7joEU"
      },
      "source": [
        "# importing GradientBoostingClassifier from sklearn.ensemble\n",
        "from sklearn.ensemble import GradientBoostingClassifier"
      ],
      "execution_count": 114,
      "outputs": []
    },
    {
      "cell_type": "code",
      "metadata": {
        "id": "2i0hCplCjoJC"
      },
      "source": [
        "gbc_model = GradientBoostingClassifier(n_estimators=200, max_features=10, max_depth = 6, random_state = SEED)"
      ],
      "execution_count": 115,
      "outputs": []
    },
    {
      "cell_type": "code",
      "metadata": {
        "colab": {
          "base_uri": "https://localhost:8080/"
        },
        "id": "9hKXTOz1joNF",
        "outputId": "d31190af-e74c-4843-88d1-7deeb05826d0"
      },
      "source": [
        "gbc_model.fit(X_train,Y_train)"
      ],
      "execution_count": 116,
      "outputs": [
        {
          "output_type": "stream",
          "name": "stderr",
          "text": [
            "/usr/local/lib/python3.7/dist-packages/sklearn/ensemble/_gb.py:494: DataConversionWarning: A column-vector y was passed when a 1d array was expected. Please change the shape of y to (n_samples, ), for example using ravel().\n",
            "  y = column_or_1d(y, warn=True)\n"
          ]
        },
        {
          "output_type": "execute_result",
          "data": {
            "text/plain": [
              "GradientBoostingClassifier(max_depth=6, max_features=10, n_estimators=200,\n",
              "                           random_state=1)"
            ]
          },
          "metadata": {},
          "execution_count": 116
        }
      ]
    },
    {
      "cell_type": "code",
      "metadata": {
        "colab": {
          "base_uri": "https://localhost:8080/"
        },
        "id": "vctnn4dijoRA",
        "outputId": "70a6015d-ddc9-453a-f1fa-9eabcad15239"
      },
      "source": [
        "gbc_model_pred = gbc_model.predict(X_test)\n",
        "print(\"Accuracy score on Test set: {0:.3f}\".format(gbc_model.score(X_test, Y_test)))"
      ],
      "execution_count": 117,
      "outputs": [
        {
          "output_type": "stream",
          "name": "stdout",
          "text": [
            "Accuracy score on Test set: 0.870\n"
          ]
        }
      ]
    },
    {
      "cell_type": "code",
      "metadata": {
        "colab": {
          "base_uri": "https://localhost:8080/"
        },
        "id": "-PpcZby2joVF",
        "outputId": "c1cbffb1-8e58-4c69-f169-cd0987dab99b"
      },
      "source": [
        "print(\"Classification Report Gradient Boost\")\n",
        "print(classification_report(Y_test, gbc_model_pred))"
      ],
      "execution_count": 118,
      "outputs": [
        {
          "output_type": "stream",
          "name": "stdout",
          "text": [
            "Classification Report Gradient Boost\n",
            "              precision    recall  f1-score   support\n",
            "\n",
            "         0.0       0.83      0.91      0.87       182\n",
            "         1.0       0.91      0.83      0.87       203\n",
            "\n",
            "    accuracy                           0.87       385\n",
            "   macro avg       0.87      0.87      0.87       385\n",
            "weighted avg       0.87      0.87      0.87       385\n",
            "\n"
          ]
        }
      ]
    },
    {
      "cell_type": "code",
      "metadata": {
        "colab": {
          "base_uri": "https://localhost:8080/",
          "height": 282
        },
        "id": "wWhB0KmKkOCF",
        "outputId": "f2ba08c4-beed-484e-b6e4-a2123a40c742"
      },
      "source": [
        "feature_importance_gbc = pd.Series(gbc_model.feature_importances_, index=predictor.columns)\n",
        "feature_importance_gbc.nlargest(15).plot(kind='barh',)"
      ],
      "execution_count": 120,
      "outputs": [
        {
          "output_type": "execute_result",
          "data": {
            "text/plain": [
              "<matplotlib.axes._subplots.AxesSubplot at 0x7f6cd21ee590>"
            ]
          },
          "metadata": {},
          "execution_count": 120
        },
        {
          "output_type": "display_data",
          "data": {
            "image/png": "[encoded data removed]",
            "text/plain": [
              "<Figure size 432x288 with 1 Axes>"
            ]
          },
          "metadata": {
            "needs_background": "light"
          }
        }
      ]
    },
    {
      "cell_type": "markdown",
      "metadata": {
        "id": "5A_txf8jkXG1"
      },
      "source": [
        "##**Decision Tree Classifier**"
      ]
    },
    {
      "cell_type": "code",
      "metadata": {
        "id": "vfO7n4KpkOGV"
      },
      "source": [
        "from sklearn.tree import DecisionTreeClassifier\n",
        "from sklearn.metrics import accuracy_score\n",
        "from sklearn.preprocessing import label_binarize\n",
        "from scipy import interp\n",
        "from sklearn.metrics import roc_curve, auc"
      ],
      "execution_count": 121,
      "outputs": []
    },
    {
      "cell_type": "code",
      "metadata": {
        "colab": {
          "base_uri": "https://localhost:8080/"
        },
        "id": "WM6OqoRFkOKP",
        "outputId": "a21cd838-121e-4b57-aba1-c9df80f2c9f1"
      },
      "source": [
        "dt = DecisionTreeClassifier(max_depth=12, random_state=SEED)\n",
        "\n",
        "dt.fit(X_train, Y_train)\n",
        "Y_pred = dt.predict(X_test)\n",
        "# accuracy_score(y_test, y_pred)\n",
        "\n",
        "print(\"Accuracy score on Test set: {0:.3f}\".format(dt.score(X_test, Y_test)))"
      ],
      "execution_count": 122,
      "outputs": [
        {
          "output_type": "stream",
          "name": "stdout",
          "text": [
            "Accuracy score on Test set: 0.868\n"
          ]
        }
      ]
    },
    {
      "cell_type": "code",
      "metadata": {
        "colab": {
          "base_uri": "https://localhost:8080/"
        },
        "id": "hd5qr8yokfD5",
        "outputId": "88462468-d074-4164-d77f-8113b8df73fb"
      },
      "source": [
        "print(\"Classification Report Decision Tree\")\n",
        "print(classification_report(Y_test, Y_pred))"
      ],
      "execution_count": 123,
      "outputs": [
        {
          "output_type": "stream",
          "name": "stdout",
          "text": [
            "Classification Report Decision Tree\n",
            "              precision    recall  f1-score   support\n",
            "\n",
            "         0.0       0.87      0.85      0.86       182\n",
            "         1.0       0.87      0.88      0.88       203\n",
            "\n",
            "    accuracy                           0.87       385\n",
            "   macro avg       0.87      0.87      0.87       385\n",
            "weighted avg       0.87      0.87      0.87       385\n",
            "\n"
          ]
        }
      ]
    },
    {
      "cell_type": "code",
      "metadata": {
        "colab": {
          "base_uri": "https://localhost:8080/",
          "height": 282
        },
        "id": "5RxhBKRXkfJS",
        "outputId": "5d3f4ddf-78cf-4575-a235-680ddb1b62de"
      },
      "source": [
        "feature_importances_dt = pd.Series(dt.feature_importances_, index=predictor.columns)\n",
        "feature_importances_dt.nlargest(15).plot(kind='barh',)"
      ],
      "execution_count": 124,
      "outputs": [
        {
          "output_type": "execute_result",
          "data": {
            "text/plain": [
              "<matplotlib.axes._subplots.AxesSubplot at 0x7f6cd1ecea50>"
            ]
          },
          "metadata": {},
          "execution_count": 124
        },
        {
          "output_type": "display_data",
          "data": {
            "image/png": "[encoded data removed]",
            "text/plain": [
              "<Figure size 432x288 with 1 Axes>"
            ]
          },
          "metadata": {
            "needs_background": "light"
          }
        }
      ]
    },
    {
      "cell_type": "markdown",
      "metadata": {
        "id": "03wEBmBfkqVF"
      },
      "source": [
        "## **Ada Boost Classifier model**"
      ]
    },
    {
      "cell_type": "code",
      "metadata": {
        "colab": {
          "base_uri": "https://localhost:8080/"
        },
        "id": "62L55cUZkfNu",
        "outputId": "008abf00-b00b-4d9e-fec6-a9ebf883f7ba"
      },
      "source": [
        "# Import Ada Boody Classifier Model\n",
        "from sklearn.ensemble import AdaBoostClassifier\n",
        "\n",
        "# Set seed for reproducibility\n",
        "SEED = 1\n",
        "\n",
        "# Split data into 80% train and 20% test\n",
        "###X_train, X_test, y_train, y_test = train_test_split(X, y, test_size=.2, stratify=y, random_state=SEED)\n",
        "\n",
        "#Instantiate a classification-tree\n",
        "dt2 = DecisionTreeClassifier(max_depth=12, random_state=SEED)\n",
        "\n",
        "#Instantiate an AdaBoost Classifier\n",
        "adb_clf = AdaBoostClassifier(base_estimator=dt2, n_estimators=100, random_state=SEED)\n",
        "\n",
        "#Fit the training set to the AdaBoost classifier\n",
        "adb_clf.fit(X_train, Y_train)\n",
        "\n",
        "#Predict based on the test set\n",
        "Y_pred = adb_clf.predict(X_test)\n"
      ],
      "execution_count": 125,
      "outputs": [
        {
          "output_type": "stream",
          "name": "stderr",
          "text": [
            "/usr/local/lib/python3.7/dist-packages/sklearn/utils/validation.py:985: DataConversionWarning: A column-vector y was passed when a 1d array was expected. Please change the shape of y to (n_samples, ), for example using ravel().\n",
            "  y = column_or_1d(y, warn=True)\n"
          ]
        }
      ]
    },
    {
      "cell_type": "code",
      "metadata": {
        "colab": {
          "base_uri": "https://localhost:8080/"
        },
        "id": "dcHwwe-FkfSH",
        "outputId": "8ac8c349-aabf-473d-9425-9f111071e7e5"
      },
      "source": [
        "#Print accuracy results\n",
        "print(\"Accuracy score on Test set: {0:.3f}\".format(adb_clf.score(X_test, Y_test)))"
      ],
      "execution_count": 126,
      "outputs": [
        {
          "output_type": "stream",
          "name": "stdout",
          "text": [
            "Accuracy score on Test set: 0.868\n"
          ]
        }
      ]
    },
    {
      "cell_type": "code",
      "metadata": {
        "colab": {
          "base_uri": "https://localhost:8080/"
        },
        "id": "HpAI-dD8kOOQ",
        "outputId": "e90a715e-ee1a-4569-f0bc-c97015ff9969"
      },
      "source": [
        "print(\"Classification Report Ada Boost\")\n",
        "print(classification_report(Y_test, Y_pred))"
      ],
      "execution_count": 127,
      "outputs": [
        {
          "output_type": "stream",
          "name": "stdout",
          "text": [
            "Classification Report Ada Boost\n",
            "              precision    recall  f1-score   support\n",
            "\n",
            "         0.0       0.84      0.89      0.86       182\n",
            "         1.0       0.90      0.85      0.87       203\n",
            "\n",
            "    accuracy                           0.87       385\n",
            "   macro avg       0.87      0.87      0.87       385\n",
            "weighted avg       0.87      0.87      0.87       385\n",
            "\n"
          ]
        }
      ]
    },
    {
      "cell_type": "code",
      "metadata": {
        "colab": {
          "base_uri": "https://localhost:8080/",
          "height": 317
        },
        "id": "Ua-RSNB6k6Rv",
        "outputId": "02f9231d-b98a-441d-854b-09589b93e1ba"
      },
      "source": [
        "feature_importances_adb = pd.Series(adb_clf.feature_importances_, index=predictor.columns)\n",
        "feature_importances_adb.nlargest(15).plot(kind='barh',)"
      ],
      "execution_count": 128,
      "outputs": [
        {
          "output_type": "stream",
          "name": "stderr",
          "text": [
            "/usr/local/lib/python3.7/dist-packages/sklearn/tree/_classes.py:631: RuntimeWarning: invalid value encountered in true_divide\n",
            "  return self.tree_.compute_feature_importances()\n"
          ]
        },
        {
          "output_type": "execute_result",
          "data": {
            "text/plain": [
              "<matplotlib.axes._subplots.AxesSubplot at 0x7f6cd2111b10>"
            ]
          },
          "metadata": {},
          "execution_count": 128
        },
        {
          "output_type": "display_data",
          "data": {
            "image/png": "[encoded data removed]",
            "text/plain": [
              "<Figure size 432x288 with 1 Axes>"
            ]
          },
          "metadata": {
            "needs_background": "light"
          }
        }
      ]
    },
    {
      "cell_type": "markdown",
      "metadata": {
        "id": "qHwoGayClRDR"
      },
      "source": [
        "##**KNeighbors classifier model**"
      ]
    },
    {
      "cell_type": "code",
      "metadata": {
        "colab": {
          "base_uri": "https://localhost:8080/"
        },
        "id": "hvAezPdCk6XA",
        "outputId": "1921ca9e-f7cf-4cc9-d391-75bf2255f044"
      },
      "source": [
        "from sklearn.neighbors import KNeighborsClassifier \n",
        "\n",
        "# Set seed for reproducibility\n",
        "SEED = 1\n",
        "\n",
        "# instantiate  KNeighborsClassifier\n",
        "knn = KNeighborsClassifier(n_neighbors=8)\n",
        "\n",
        "# fit knn to the training data set\n",
        "knn.fit(X_train,Y_train)\n",
        "\n",
        "#predict  the test set labels\n",
        "knn_pred = knn.predict(X_test)"
      ],
      "execution_count": 129,
      "outputs": [
        {
          "output_type": "stream",
          "name": "stderr",
          "text": [
            "/usr/local/lib/python3.7/dist-packages/sklearn/neighbors/_classification.py:198: DataConversionWarning: A column-vector y was passed when a 1d array was expected. Please change the shape of y to (n_samples,), for example using ravel().\n",
            "  return self._fit(X, y)\n"
          ]
        }
      ]
    },
    {
      "cell_type": "code",
      "metadata": {
        "colab": {
          "base_uri": "https://localhost:8080/"
        },
        "id": "Eig3FoBGk6ad",
        "outputId": "214e8a13-b91e-4893-b4e6-237a6b2086b7"
      },
      "source": [
        "print(\"Accuracy score on Test set: {0:.3f}\".format(knn.score(X_test, Y_test)))"
      ],
      "execution_count": 130,
      "outputs": [
        {
          "output_type": "stream",
          "name": "stdout",
          "text": [
            "Accuracy score on Test set: 0.748\n"
          ]
        }
      ]
    },
    {
      "cell_type": "code",
      "metadata": {
        "colab": {
          "base_uri": "https://localhost:8080/"
        },
        "id": "EO-CAh9Qk6eX",
        "outputId": "3aa97cf6-4205-4acc-fa98-5160e894a7d3"
      },
      "source": [
        "print(\"Classification Report of KNeighbors\")\n",
        "print(classification_report(Y_test, knn_pred))"
      ],
      "execution_count": 131,
      "outputs": [
        {
          "output_type": "stream",
          "name": "stdout",
          "text": [
            "Classification Report of KNeighbors\n",
            "              precision    recall  f1-score   support\n",
            "\n",
            "         0.0       0.69      0.85      0.76       182\n",
            "         1.0       0.83      0.66      0.73       203\n",
            "\n",
            "    accuracy                           0.75       385\n",
            "   macro avg       0.76      0.75      0.75       385\n",
            "weighted avg       0.76      0.75      0.75       385\n",
            "\n"
          ]
        }
      ]
    },
    {
      "cell_type": "markdown",
      "metadata": {
        "id": "G8inbx7_lhEk"
      },
      "source": [
        "## **BaggingClassifier**"
      ]
    },
    {
      "cell_type": "code",
      "metadata": {
        "colab": {
          "base_uri": "https://localhost:8080/"
        },
        "id": "6UGNzxvhlfOs",
        "outputId": "fe488aee-de65-4a9b-b7f5-644e941648eb"
      },
      "source": [
        "# Import BaggingClassifier Model\n",
        "from sklearn.ensemble import BaggingClassifier\n",
        "from sklearn.tree import DecisionTreeClassifier\n",
        "\n",
        "# Set seed for reproducibility\n",
        "SEED = 1\n",
        "\n",
        "# Split data into 80% train and 20% test\n",
        "###X_train, X_test, y_train, y_test = train_test_split(X, y, test_size=.2, stratify=y, random_state=SEED)\n",
        "\n",
        "#Instantiate a classification-tree\n",
        "dt3 = DecisionTreeClassifier(max_depth=12, random_state=SEED)\n",
        "\n",
        "#Instantiate an AdaBoost Classifier\n",
        "bag_clf = BaggingClassifier(base_estimator=dt3, n_estimators=100)\n",
        "\n",
        "#Fit the training set to the AdaBoost classifier\n",
        "bag_clf.fit(X_train, Y_train)\n",
        "\n",
        "#Predict based on the test set\n",
        "Y_pred = bag_clf.predict(X_test)\n"
      ],
      "execution_count": 135,
      "outputs": [
        {
          "output_type": "stream",
          "name": "stderr",
          "text": [
            "/usr/local/lib/python3.7/dist-packages/sklearn/ensemble/_bagging.py:719: DataConversionWarning: A column-vector y was passed when a 1d array was expected. Please change the shape of y to (n_samples, ), for example using ravel().\n",
            "  y = column_or_1d(y, warn=True)\n"
          ]
        }
      ]
    },
    {
      "cell_type": "code",
      "metadata": {
        "colab": {
          "base_uri": "https://localhost:8080/"
        },
        "id": "bEdAEBr2lfSr",
        "outputId": "192a80d7-2cb5-4c86-c3cb-b776da6ff5b1"
      },
      "source": [
        "#Print accuracy results\n",
        "print(\"Accuracy score on Test set: {0:.3f}\".format(bag_clf.score(X_test, Y_test)))"
      ],
      "execution_count": 134,
      "outputs": [
        {
          "output_type": "stream",
          "name": "stdout",
          "text": [
            "Accuracy score on Test set: 0.878\n"
          ]
        }
      ]
    },
    {
      "cell_type": "code",
      "metadata": {
        "colab": {
          "base_uri": "https://localhost:8080/"
        },
        "id": "MCLVNNhwlfW2",
        "outputId": "6b1a6359-b86c-4088-ca72-af5b895f6daf"
      },
      "source": [
        "print(\"Classification Report Bagging\")\n",
        "print(classification_report(Y_test, Y_pred))"
      ],
      "execution_count": 136,
      "outputs": [
        {
          "output_type": "stream",
          "name": "stdout",
          "text": [
            "Classification Report Bagging\n",
            "              precision    recall  f1-score   support\n",
            "\n",
            "         0.0       0.85      0.91      0.88       182\n",
            "         1.0       0.92      0.86      0.89       203\n",
            "\n",
            "    accuracy                           0.88       385\n",
            "   macro avg       0.88      0.88      0.88       385\n",
            "weighted avg       0.89      0.88      0.88       385\n",
            "\n"
          ]
        }
      ]
    },
    {
      "cell_type": "code",
      "metadata": {
        "colab": {
          "base_uri": "https://localhost:8080/",
          "height": 282
        },
        "id": "vRhA_RdGlfbA",
        "outputId": "e05f3179-b29a-4f88-a5e1-097db331c880"
      },
      "source": [
        "feature_importances_bag = np.mean([\n",
        "    tree.feature_importances_ for tree in bag_clf.estimators_\n",
        "], axis=0)\n",
        "\n",
        "feature_importances_bag = pd.Series(feature_importances_bag, index=predictor.columns)\n",
        "feature_importances_bag.nlargest(15).plot(kind='barh',)"
      ],
      "execution_count": 137,
      "outputs": [
        {
          "output_type": "execute_result",
          "data": {
            "text/plain": [
              "<matplotlib.axes._subplots.AxesSubplot at 0x7f6cd19df090>"
            ]
          },
          "metadata": {},
          "execution_count": 137
        },
        {
          "output_type": "display_data",
          "data": {
            "image/png": "[encoded data removed]",
            "text/plain": [
              "<Figure size 432x288 with 1 Axes>"
            ]
          },
          "metadata": {
            "needs_background": "light"
          }
        }
      ]
    },
    {
      "cell_type": "code",
      "metadata": {
        "id": "Z-EYWMGQl7iA"
      },
      "source": [
        ""
      ],
      "execution_count": null,
      "outputs": []
    },
    {
      "cell_type": "code",
      "metadata": {
        "id": "s13-6Mq3l7oI"
      },
      "source": [
        ""
      ],
      "execution_count": null,
      "outputs": []
    },
    {
      "cell_type": "code",
      "metadata": {
        "id": "ZKZYOuLSl7sQ"
      },
      "source": [
        ""
      ],
      "execution_count": null,
      "outputs": []
    },
    {
      "cell_type": "code",
      "metadata": {
        "id": "cX5GIIbkl7wz"
      },
      "source": [
        ""
      ],
      "execution_count": null,
      "outputs": []
    }
  ]
}